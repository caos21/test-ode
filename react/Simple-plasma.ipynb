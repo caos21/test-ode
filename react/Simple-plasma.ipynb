{
 "cells": [
  {
   "cell_type": "markdown",
   "metadata": {},
   "source": [
    "$$\\require{mhchem}$$\n",
    "$\\newcommand{\\num}[1]{\\text{#1}}$\n",
    "$\\newcommand{\\nnum}[2]{\\text{#1}\\times\\text{10}^{\\text{#2}}}$\n",
    "$\\newcommand{\\unum}[2]{\\text{#1}\\,\\text{#2}}$\n",
    "$\\newcommand{\\unnum}[3]{\\text{#1}\\times\\text{10}^{\\text{#2}}\\,\\text{#3}}$"
   ]
  },
  {
   "cell_type": "markdown",
   "metadata": {},
   "source": [
    "# Reactions\n",
    "\n",
    "| \\# | Process | Reaction | Rate            | $A (\\text{m}^3/s)$ | $\\beta$ | $E_\\text{A}(\\text{eV})$ |\n",
    "|--|--| ---------|-----------------|--------|-----|-----------|\n",
    "| 1| Ionization | $\\ce{Ar + e -> Ar+ + 2e}$ | $k_\\text{i}$ | $\\nnum{7.057}{-17}$ | $\\num{0.6}$ | $\\num{16.125}$ |\n",
    "| 2| Excitation | $\\ce{Ar + e -> Ar^{$*$} + e}$ | $k_\\text{ex}$ | $\\nnum{1.169}{-14}$ | $\\num{0}$ | $\\num{12.431}$ |\n",
    "| 3| Step-wise ionization | $\\ce{Ar^{$*$} + e -> Ar+ + 2e}$ | $k_\\text{si}$ | $\\nnum{1.249}{-13}$ | $\\num{0}$ | $\\num{5.385}$ |\n",
    "| 4| Superelastic collisions | $\\ce{Ar^{$*$} + e -> Ar + e}$ | $k_\\text{sc}$ | $\\nnum{4.317}{-16}$ | $\\num{0.74}$ | $\\num{0}$ |\n",
    "| 5| Quenching to resonant | $\\ce{Ar^{$*$} + e -> Ar^{r} + e}$ | $k_\\text{r}$ | $\\nnum{2.0}{-13}$ | $\\num{0}$ | $\\num{0}$ |\n",
    "| 6| Metastable pooling | $\\ce{Ar^{$*$} + Ar^{$*$} -> Ar + Ar+ + e}$ | $k_\\text{mp}$ | $\\nnum{6.2}{-16}$ | $\\num{0}$ | $\\num{0}$ |\n",
    "| 7| Two body quenching | $\\ce{Ar^{$*$} + Ar -> 2Ar}$ | $k_\\text{2q}$ | $\\nnum{3.0}{-21}$ | $\\num{0}$ | $\\num{0}$ |\n",
    "| 8| Three body quenching | $\\ce{Ar^{$*$} + 2Ar -> Ar_2  + Ar}$ | $k_\\text{3q}$ | $\\nnum{1.1}{-43}$ | $\\num{0}$ | $\\num{0}$ |\n",
    "\n"
   ]
  },
  {
   "cell_type": "markdown",
   "metadata": {
    "collapsed": true
   },
   "source": [
    "# Procedure\n",
    "\n",
    "    1. Write down reactions in a textfile (see metaplasma.r4)\n",
    "\n",
    "```\n",
    "# 0 - Constants : Ar, Ar2 and Ar_r\n",
    "Ar = 3.22e21; Ar2; Ar_r;\n",
    "# 1 - Ionization | rate | Aconstant | Eactivation | beta\n",
    "Ar + e -> Ar+ + 2e ki 7.057e-17 16.125 0.6;\n",
    "# 2 - Excitation\n",
    "Ar + e -> Ar* + e kex 1.169e-14 12.431;\n",
    "# 3 - Step-wise ionization\n",
    "Ar* + e -> Ar+ + 2e ksi 1.249e-13 5.385;\n",
    "# 4 - Superelastic collisions\n",
    "Ar* + e -> Ar + e ksc 4.317e-16 0.0 0.74;\n",
    "# 5 - Quenching to resonant\n",
    "Ar* + e -> Ar_r + e kr 2.0E-13;\n",
    "# 6 - Metastable pooling\n",
    "Ar* + Ar* -> Ar + Ar+ + e kmp 6.2E-16;\n",
    "# 7 - Two body quenching\n",
    "Ar* + Ar -> 2Ar k2q 3.0E-21;\n",
    "# 8 - Three body quenching\n",
    "Ar* + 2Ar -> Ar2 + Ar k3q 1.1e-43;\n",
    "```\n",
    "\n",
    "- Or in a string"
   ]
  },
  {
   "cell_type": "code",
   "execution_count": 1,
   "metadata": {
    "collapsed": true
   },
   "outputs": [],
   "source": [
    "plasma = \"Ar = 3.22e21; Ar2; Ar_r;Ar + e -> Ar+ + 2e ki 7.057e-17 16.125 0.6;Ar + e -> Ar* + e kex 1.169e-14 12.431;Ar* + e -> Ar+ + 2e ksi 1.249e-13 5.385;Ar* + e -> Ar + e ksc 4.317e-16 0.0 0.74;Ar* + e -> Ar_r + e kr 2.0E-13;Ar* + Ar* -> Ar + Ar+ + e kmp 6.2E-16;Ar* + Ar -> 2Ar k2q 3.0E-21;Ar* + 2Ar -> Ar2 + Ar k3q 1.1e-43;\""
   ]
  },
  {
   "cell_type": "markdown",
   "metadata": {
    "collapsed": true
   },
   "source": [
    "- Lines starting by `#` are comments.\n",
    "- Lines must be ended by a semicolon `;`\n",
    "- Species must start with a char.\n",
    "- Reactants are in the left side of arrow and products in the right side, `+` sign must be written with spaces at the start and at the end.\n",
    "- After the last product is it possible to name the rate and specify A, Eactivation and beta for Arrhenius form.\n",
    "- Constants can be defined by its symbol, or by assignment of a number. `Ar = 1.0;`\n",
    "- Diffusion constant is defined by the operator `D[]` and the species must be inside the brackets. `D[e] = 2.3;`\n",
    "\n"
   ]
  },
  {
   "cell_type": "markdown",
   "metadata": {},
   "source": [
    "    2. Import package"
   ]
  },
  {
   "cell_type": "code",
   "execution_count": 2,
   "metadata": {},
   "outputs": [],
   "source": [
    "import listreact as lr"
   ]
  },
  {
   "cell_type": "markdown",
   "metadata": {},
   "source": [
    "    3. Read the system. Print the system of differential equations and Jacobian"
   ]
  },
  {
   "cell_type": "code",
   "execution_count": 3,
   "metadata": {},
   "outputs": [
    {
     "name": "stdout",
     "output_type": "stream",
     "text": [
      "ANTLR runtime and generated code versions disagree: 4.7!=4.6\n",
      "ANTLR runtime and generated code versions disagree: 4.7!=4.6\n",
      "[ii] Warning value for constant  Ar2  is None\n",
      "[ii] Warning value for constant  Ar_r  is None\n",
      "\n",
      "\n",
      "d[e]/dt  = + ki Ar e + ksi Ar* e + kmp Ar*^2\n",
      "d[Ar+]/dt  = + ki Ar e + ksi Ar* e + kmp Ar*^2\n",
      "d[Ar*]/dt  = + kex Ar e - ksi Ar* e - ksc Ar* e - kr Ar* e - 2kmp Ar*^2 - k2q Ar* Ar - k3q Ar* Ar^2\n",
      "\n",
      "J (0, 0) =  +  ki Ar\n",
      "J (0, 0) =  +  ksi Ar*\n",
      "J (0, 2) =  +  ksi e\n",
      "J (0, 2) =  + 2 kmp Ar*\n",
      "J (1, 0) =  +  ki Ar\n",
      "J (1, 0) =  +  ksi Ar*\n",
      "J (1, 2) =  +  ksi e\n",
      "J (1, 2) =  + 2 kmp Ar*\n",
      "J (2, 0) =  +  kex Ar\n",
      "J (2, 0) =  -  ksi Ar*\n",
      "J (2, 0) =  -  ksc Ar*\n",
      "J (2, 0) =  -  kr Ar*\n",
      "J (2, 2) =  -  ksi e\n",
      "J (2, 2) =  -  ksc e\n",
      "J (2, 2) =  -  kr e\n",
      "J (2, 2) =  - 4 kmp Ar*\n",
      "J (2, 2) =  -  k2q Ar\n",
      "J (2, 2) =  -  k3q Ar^2\n",
      "\n"
     ]
    }
   ],
   "source": [
    "lr.readAndPrint(plasma)"
   ]
  },
  {
   "attachments": {
    "image.png": {
     "image/png": "[encoded data removed]"
    }
   },
   "cell_type": "markdown",
   "metadata": {},
   "source": [
    "[![image.png](attachment:image.png)]"
   ]
  },
  {
   "cell_type": "code",
   "execution_count": null,
   "metadata": {
    "collapsed": true
   },
   "outputs": [],
   "source": []
  }
 ],
 "metadata": {
  "kernelspec": {
   "display_name": "Python 3",
   "language": "python",
   "name": "python3"
  },
  "language_info": {
   "codemirror_mode": {
    "name": "ipython",
    "version": 3
   },
   "file_extension": ".py",
   "mimetype": "text/x-python",
   "name": "python",
   "nbconvert_exporter": "python",
   "pygments_lexer": "ipython3",
   "version": "3.6.2"
  }
 },
 "nbformat": 4,
 "nbformat_minor": 2
}
